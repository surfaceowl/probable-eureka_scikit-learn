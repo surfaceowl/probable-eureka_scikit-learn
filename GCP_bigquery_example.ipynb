{
 "cells": [
  {
   "cell_type": "markdown",
   "metadata": {},
   "source": [
    "### GCP bigquery example\n"
   ]
  },
  {
   "cell_type": "code",
   "execution_count": 1,
   "metadata": {
    "ExecuteTime": {
     "end_time": "2019-02-08T18:02:32.197243Z",
     "start_time": "2019-02-08T18:02:32.193245Z"
    }
   },
   "outputs": [],
   "source": [
    "# imports\n",
    "import numpy as np\n",
    "import pandas as pd\n",
    "pd.set_option('display.width', 1000)\n",
    "\n",
    "import os\n",
    "import wget\n",
    "import zipfile\n",
    "\n",
    "import category_encoders as ce\n",
    "from sklearn.preprocessing import LabelEncoder\n",
    "\n",
    "# tools for getting data\n",
    "from google.cloud import bigquery\n",
    "\n",
    "from ipywidgets import interact, interact_manual\n",
    "import ipywidgets as widgets\n",
    "import wordcloud\n",
    "import matplotlib.pyplot as plt\n",
    "\n",
    "import calmap\n"
   ]
  },
  {
   "cell_type": "code",
   "execution_count": 2,
   "metadata": {
    "ExecuteTime": {
     "end_time": "2019-02-08T17:58:33.193244Z",
     "start_time": "2019-02-08T17:58:33.190246Z"
    }
   },
   "outputs": [],
   "source": [
    "# do some setup to make sure visualization controls work\n",
    "# from cli: jupyter labextension install @jupyter-widgets/jupyterlab-manager"
   ]
  },
  {
   "cell_type": "code",
   "execution_count": 3,
   "metadata": {
    "ExecuteTime": {
     "end_time": "2019-02-08T17:58:33.744244Z",
     "start_time": "2019-02-08T17:58:33.735243Z"
    }
   },
   "outputs": [],
   "source": [
    "# get hackernews data using bigquery\n",
    "# https://www.kaggle.com/sohier/beyond-queries-exploring-the-bigquery-api\n",
    "# if you need to setup google api credentials, see this ref: https://cloud.google.com/docs/authentication/getting-started\n",
    "# you may also need to use google cloud console to enable 'bigquery' for your query user/api key\n",
    "# https://cloud.google.com/bigquery/docs/access-control\n",
    "# hackernews feed updated daily:  https://medium.com/@hoffa/hacker-news-on-bigquery-now-with-daily-updates-so-what-are-the-top-domains-963d3c68b2e2\n",
    "client = bigquery.Client()\n",
    "hn_dataset_ref = client.dataset('hacker_news', project='bigquery-public-data')\n"
   ]
  },
  {
   "cell_type": "code",
   "execution_count": 4,
   "metadata": {
    "ExecuteTime": {
     "end_time": "2019-02-08T17:58:34.552243Z",
     "start_time": "2019-02-08T17:58:34.546243Z"
    }
   },
   "outputs": [
    {
     "data": {
      "text/plain": [
       "google.cloud.bigquery.dataset.DatasetReference"
      ]
     },
     "execution_count": 4,
     "metadata": {},
     "output_type": "execute_result"
    }
   ],
   "source": [
    "# check that connection works\n",
    "type(hn_dataset_ref)"
   ]
  },
  {
   "cell_type": "code",
   "execution_count": 5,
   "metadata": {
    "ExecuteTime": {
     "end_time": "2019-02-08T17:58:36.082243Z",
     "start_time": "2019-02-08T17:58:35.291246Z"
    }
   },
   "outputs": [
    {
     "data": {
      "text/plain": [
       "['comments', 'full', 'full_201510', 'stories']"
      ]
     },
     "execution_count": 5,
     "metadata": {},
     "output_type": "execute_result"
    }
   ],
   "source": [
    "hn_dset = client.get_dataset(hn_dataset_ref)\n",
    "[x.table_id for x in client.list_tables(hn_dset)]"
   ]
  },
  {
   "cell_type": "code",
   "execution_count": 6,
   "metadata": {
    "ExecuteTime": {
     "end_time": "2019-02-08T17:58:39.288244Z",
     "start_time": "2019-02-08T17:58:39.145242Z"
    }
   },
   "outputs": [
    {
     "data": {
      "text/plain": [
       "google.cloud.bigquery.table.Table"
      ]
     },
     "execution_count": 6,
     "metadata": {},
     "output_type": "execute_result"
    }
   ],
   "source": [
    "hn_full = client.get_table(hn_dset.table('full'))\n",
    "type(hn_full)"
   ]
  },
  {
   "cell_type": "code",
   "execution_count": 7,
   "metadata": {
    "ExecuteTime": {
     "end_time": "2019-02-08T17:58:41.217243Z",
     "start_time": "2019-02-08T17:58:41.213242Z"
    }
   },
   "outputs": [
    {
     "data": {
      "text/plain": [
       "['clustering_fields',\n",
       " 'created',\n",
       " 'dataset_id',\n",
       " 'description',\n",
       " 'encryption_configuration',\n",
       " 'etag',\n",
       " 'expires',\n",
       " 'external_data_configuration',\n",
       " 'friendly_name',\n",
       " 'from_api_repr',\n",
       " 'from_string',\n",
       " 'full_table_id',\n",
       " 'labels',\n",
       " 'location',\n",
       " 'modified',\n",
       " 'num_bytes',\n",
       " 'num_rows',\n",
       " 'partition_expiration',\n",
       " 'partitioning_type',\n",
       " 'path',\n",
       " 'project',\n",
       " 'reference',\n",
       " 'schema',\n",
       " 'self_link',\n",
       " 'streaming_buffer',\n",
       " 'table_id',\n",
       " 'table_type',\n",
       " 'time_partitioning',\n",
       " 'to_api_repr',\n",
       " 'to_bqstorage',\n",
       " 'view_query',\n",
       " 'view_use_legacy_sql']"
      ]
     },
     "execution_count": 7,
     "metadata": {},
     "output_type": "execute_result"
    }
   ],
   "source": [
    "[command for command in dir(hn_full) if not command.startswith('_')]"
   ]
  },
  {
   "cell_type": "code",
   "execution_count": 8,
   "metadata": {
    "ExecuteTime": {
     "end_time": "2019-02-08T17:58:44.184243Z",
     "start_time": "2019-02-08T17:58:44.179241Z"
    }
   },
   "outputs": [
    {
     "data": {
      "text/plain": [
       "[SchemaField('by', 'STRING', 'NULLABLE', \"The username of the item's author.\", ()),\n",
       " SchemaField('score', 'INTEGER', 'NULLABLE', 'Story score', ()),\n",
       " SchemaField('time', 'INTEGER', 'NULLABLE', 'Unix time', ()),\n",
       " SchemaField('timestamp', 'TIMESTAMP', 'NULLABLE', 'Timestamp for the unix time', ()),\n",
       " SchemaField('title', 'STRING', 'NULLABLE', 'Story title', ()),\n",
       " SchemaField('type', 'STRING', 'NULLABLE', 'Type of details (comment, comment_ranking, poll, story, job, pollopt)', ()),\n",
       " SchemaField('url', 'STRING', 'NULLABLE', 'Story url', ()),\n",
       " SchemaField('text', 'STRING', 'NULLABLE', 'Story or comment text', ()),\n",
       " SchemaField('parent', 'INTEGER', 'NULLABLE', 'Parent comment ID', ()),\n",
       " SchemaField('deleted', 'BOOLEAN', 'NULLABLE', 'Is deleted?', ()),\n",
       " SchemaField('dead', 'BOOLEAN', 'NULLABLE', 'Is dead?', ()),\n",
       " SchemaField('descendants', 'INTEGER', 'NULLABLE', 'Number of story or poll descendants', ()),\n",
       " SchemaField('id', 'INTEGER', 'NULLABLE', \"The item's unique id.\", ()),\n",
       " SchemaField('ranking', 'INTEGER', 'NULLABLE', 'Comment ranking', ())]"
      ]
     },
     "execution_count": 8,
     "metadata": {},
     "output_type": "execute_result"
    }
   ],
   "source": [
    "hn_full.schema"
   ]
  },
  {
   "cell_type": "code",
   "execution_count": 9,
   "metadata": {
    "ExecuteTime": {
     "end_time": "2019-02-08T18:04:26.737241Z",
     "start_time": "2019-02-08T18:04:26.714242Z"
    }
   },
   "outputs": [
    {
     "name": "stdout",
     "output_type": "stream",
     "text": [
      "data file loaded\n"
     ]
    },
    {
     "data": {
      "text/html": [
       "<div>\n",
       "<style scoped>\n",
       "    .dataframe tbody tr th:only-of-type {\n",
       "        vertical-align: middle;\n",
       "    }\n",
       "\n",
       "    .dataframe tbody tr th {\n",
       "        vertical-align: top;\n",
       "    }\n",
       "\n",
       "    .dataframe thead th {\n",
       "        text-align: right;\n",
       "    }\n",
       "</style>\n",
       "<table border=\"1\" class=\"dataframe\">\n",
       "  <thead>\n",
       "    <tr style=\"text-align: right;\">\n",
       "      <th></th>\n",
       "      <th>Unnamed: 0</th>\n",
       "      <th>Unnamed: 0.1</th>\n",
       "      <th>Unnamed: 0.1.1</th>\n",
       "      <th>id</th>\n",
       "      <th>author</th>\n",
       "      <th>title</th>\n",
       "      <th>time_ts</th>\n",
       "      <th>score</th>\n",
       "      <th>url</th>\n",
       "    </tr>\n",
       "  </thead>\n",
       "  <tbody>\n",
       "    <tr>\n",
       "      <th>0</th>\n",
       "      <td>0</td>\n",
       "      <td>0</td>\n",
       "      <td>0</td>\n",
       "      <td>9520</td>\n",
       "      <td>bootload</td>\n",
       "      <td>Delicious tags &amp; machine learning</td>\n",
       "      <td>2007-04-06 03:58:32+00:00</td>\n",
       "      <td>1</td>\n",
       "      <td>http://www.smokingrobot.com/news/archives/perm...</td>\n",
       "    </tr>\n",
       "    <tr>\n",
       "      <th>1</th>\n",
       "      <td>1</td>\n",
       "      <td>1</td>\n",
       "      <td>1</td>\n",
       "      <td>46778</td>\n",
       "      <td>nickb</td>\n",
       "      <td>Machine Learning and The Privacy Problem</td>\n",
       "      <td>2007-08-26 18:34:47+00:00</td>\n",
       "      <td>2</td>\n",
       "      <td>http://hunch.net/?p=288</td>\n",
       "    </tr>\n",
       "    <tr>\n",
       "      <th>2</th>\n",
       "      <td>2</td>\n",
       "      <td>2</td>\n",
       "      <td>2</td>\n",
       "      <td>58532</td>\n",
       "      <td>aquarin</td>\n",
       "      <td>Map-Reduce for Machine Learning on Multicore (...</td>\n",
       "      <td>2007-09-23 13:08:53+00:00</td>\n",
       "      <td>10</td>\n",
       "      <td>http://www.cs.stanford.edu/people/ang//papers/...</td>\n",
       "    </tr>\n",
       "    <tr>\n",
       "      <th>3</th>\n",
       "      <td>3</td>\n",
       "      <td>3</td>\n",
       "      <td>3</td>\n",
       "      <td>58600</td>\n",
       "      <td>ivankirigin</td>\n",
       "      <td>Machine Learning Animations from CMU's Auton L...</td>\n",
       "      <td>2007-09-23 20:02:14+00:00</td>\n",
       "      <td>9</td>\n",
       "      <td>http://www.autonlab.org/autonweb/library/anima...</td>\n",
       "    </tr>\n",
       "    <tr>\n",
       "      <th>4</th>\n",
       "      <td>4</td>\n",
       "      <td>4</td>\n",
       "      <td>4</td>\n",
       "      <td>64637</td>\n",
       "      <td>tocomment</td>\n",
       "      <td>Machine Learning and Dragons - A Game</td>\n",
       "      <td>2007-10-08 05:18:34+00:00</td>\n",
       "      <td>22</td>\n",
       "      <td>http://www.blendedtechnologies.com/machine-lea...</td>\n",
       "    </tr>\n",
       "    <tr>\n",
       "      <th>5</th>\n",
       "      <td>5</td>\n",
       "      <td>5</td>\n",
       "      <td>5</td>\n",
       "      <td>79359</td>\n",
       "      <td>jkush</td>\n",
       "      <td>Can anyone recommend good books, articles or e...</td>\n",
       "      <td>2007-11-13 17:45:17+00:00</td>\n",
       "      <td>27</td>\n",
       "      <td>NaN</td>\n",
       "    </tr>\n",
       "    <tr>\n",
       "      <th>6</th>\n",
       "      <td>6</td>\n",
       "      <td>6</td>\n",
       "      <td>6</td>\n",
       "      <td>90234</td>\n",
       "      <td>hhm</td>\n",
       "      <td>Machine Learning (classic book, by Tom Mitchell)</td>\n",
       "      <td>2007-12-17 04:25:16+00:00</td>\n",
       "      <td>1</td>\n",
       "      <td>http://books.google.com/books?id=I5GcpyPx3RwC&amp;...</td>\n",
       "    </tr>\n",
       "    <tr>\n",
       "      <th>7</th>\n",
       "      <td>7</td>\n",
       "      <td>7</td>\n",
       "      <td>7</td>\n",
       "      <td>132188</td>\n",
       "      <td>kurtosis</td>\n",
       "      <td>Ask YC: Real World Applications of Machine Lea...</td>\n",
       "      <td>2008-03-08 22:35:20+00:00</td>\n",
       "      <td>17</td>\n",
       "      <td>NaN</td>\n",
       "    </tr>\n",
       "    <tr>\n",
       "      <th>8</th>\n",
       "      <td>8</td>\n",
       "      <td>8</td>\n",
       "      <td>8</td>\n",
       "      <td>133682</td>\n",
       "      <td>mardeo</td>\n",
       "      <td>CastTV - Hiring Hackers: Fascinated by machine...</td>\n",
       "      <td>2008-03-11 01:14:05+00:00</td>\n",
       "      <td>2</td>\n",
       "      <td>http://casttv.com/jobs/</td>\n",
       "    </tr>\n",
       "    <tr>\n",
       "      <th>9</th>\n",
       "      <td>9</td>\n",
       "      <td>9</td>\n",
       "      <td>9</td>\n",
       "      <td>198601</td>\n",
       "      <td>bluishgreen</td>\n",
       "      <td>Ask YC: Machine learning course recommendation.</td>\n",
       "      <td>2008-05-24 03:47:27+00:00</td>\n",
       "      <td>43</td>\n",
       "      <td>NaN</td>\n",
       "    </tr>\n",
       "  </tbody>\n",
       "</table>\n",
       "</div>"
      ],
      "text/plain": [
       "   Unnamed: 0  Unnamed: 0.1  Unnamed: 0.1.1      id       author                                              title                    time_ts  score                                                url\n",
       "0           0             0               0    9520     bootload                  Delicious tags & machine learning  2007-04-06 03:58:32+00:00      1  http://www.smokingrobot.com/news/archives/perm...\n",
       "1           1             1               1   46778        nickb           Machine Learning and The Privacy Problem  2007-08-26 18:34:47+00:00      2                            http://hunch.net/?p=288\n",
       "2           2             2               2   58532      aquarin  Map-Reduce for Machine Learning on Multicore (...  2007-09-23 13:08:53+00:00     10  http://www.cs.stanford.edu/people/ang//papers/...\n",
       "3           3             3               3   58600  ivankirigin  Machine Learning Animations from CMU's Auton L...  2007-09-23 20:02:14+00:00      9  http://www.autonlab.org/autonweb/library/anima...\n",
       "4           4             4               4   64637    tocomment              Machine Learning and Dragons - A Game  2007-10-08 05:18:34+00:00     22  http://www.blendedtechnologies.com/machine-lea...\n",
       "5           5             5               5   79359        jkush  Can anyone recommend good books, articles or e...  2007-11-13 17:45:17+00:00     27                                                NaN\n",
       "6           6             6               6   90234          hhm   Machine Learning (classic book, by Tom Mitchell)  2007-12-17 04:25:16+00:00      1  http://books.google.com/books?id=I5GcpyPx3RwC&...\n",
       "7           7             7               7  132188     kurtosis  Ask YC: Real World Applications of Machine Lea...  2008-03-08 22:35:20+00:00     17                                                NaN\n",
       "8           8             8               8  133682       mardeo  CastTV - Hiring Hackers: Fascinated by machine...  2008-03-11 01:14:05+00:00      2                            http://casttv.com/jobs/\n",
       "9           9             9               9  198601  bluishgreen    Ask YC: Machine learning course recommendation.  2008-05-24 03:47:27+00:00     43                                                NaN"
      ]
     },
     "execution_count": 9,
     "metadata": {},
     "output_type": "execute_result"
    }
   ],
   "source": [
    "# if we've already downloaded the info, load saved csv - else run new GCP query\n",
    "saved_datafile = \"hackernews_ML_articles.csv\"\n",
    "\n",
    "# check if source data exists - returns True/False\n",
    "data_exists = os.path.exists(saved_datafile)  \n",
    "\n",
    "if data_exists:\n",
    "    headlines = pd.read_csv(saved_datafile)\n",
    "    print(\"data file loaded\")\n",
    "else:\n",
    "    # get source data from bigquery  -- https://www.kaggle.com/mrisdal/mentions-of-kaggle-on-hacker-news\n",
    "    # use GCP to test query on console first (with limit): https://console.cloud.google.com/bigquery\n",
    "\n",
    "    # Using WHERE reduces the amount of data scanned / quota used\n",
    "    query = \"\"\"\n",
    "    SELECT id, author, title, time_ts, score, url\n",
    "    FROM `bigquery-public-data.hacker_news.stories`\n",
    "    WHERE url IS NOT NULL\n",
    "    AND REGEXP_CONTAINS(title, r\"(m|M)achine (l|L)earning\")\n",
    "    ORDER BY time_ts;\n",
    "    \"\"\"\n",
    "\n",
    "    query_job = client.query(query)\n",
    "\n",
    "    iterator = query_job.result(timeout=60)\n",
    "    rows = list(iterator)\n",
    "\n",
    "    # Transform the rows into a nice pandas dataframe\n",
    "    headlines = pd.DataFrame(data=[list(x.values()) for x in rows], columns=list(rows[0].keys()))\n",
    "    \n",
    "    # save to csv to avoid query costs\n",
    "    headlines.to_csv(\"hackernews_ML_articles.csv\" ,  sep=',', header=True)\n",
    "\n",
    "# Look at the first 10 headlines\n",
    "headlines.head(10)"
   ]
  },
  {
   "cell_type": "code",
   "execution_count": 10,
   "metadata": {
    "ExecuteTime": {
     "end_time": "2019-02-08T18:03:56.429244Z",
     "start_time": "2019-02-08T18:03:56.421245Z"
    }
   },
   "outputs": [
    {
     "name": "stdout",
     "output_type": "stream",
     "text": [
      "<class 'pandas.core.frame.DataFrame'>\n",
      "RangeIndex: 1855 entries, 0 to 1854\n",
      "Data columns (total 9 columns):\n",
      "Unnamed: 0        1855 non-null int64\n",
      "Unnamed: 0.1      1855 non-null int64\n",
      "Unnamed: 0.1.1    1855 non-null int64\n",
      "id                1855 non-null int64\n",
      "author            1855 non-null object\n",
      "title             1855 non-null object\n",
      "time_ts           1855 non-null object\n",
      "score             1855 non-null int64\n",
      "url               1731 non-null object\n",
      "dtypes: int64(5), object(4)\n",
      "memory usage: 130.5+ KB\n"
     ]
    }
   ],
   "source": [
    "headlines.info()"
   ]
  },
  {
   "cell_type": "code",
   "execution_count": 11,
   "metadata": {},
   "outputs": [],
   "source": [
    "# create a wordcloud to see big themes across articles"
   ]
  },
  {
   "cell_type": "code",
   "execution_count": 12,
   "metadata": {},
   "outputs": [
    {
     "name": "stdout",
     "output_type": "stream",
     "text": [
      "font directory already exists\n",
      "NationalPark.zip font file already downloaded\n",
      "all font files extracted to fonts/\n"
     ]
    }
   ],
   "source": [
    "# download nicer font for wordcloud\n",
    "# free national park font: https://nationalparktypeface.com/Download\n",
    "# download URL: https://files.cargocollective.com/c206464/NationalPark.zip\n",
    "# if we haven't downloaded fonts, create a font dir; then download and unzip\n",
    "font_dir = \"fonts\"\n",
    "font_dir_exists = os.path.isdir(font_dir)\n",
    "font_zipfile = os.path.exists(\"NationalPark.zip\")\n",
    "\n",
    "if not font_dir_exists:\n",
    "    new_font_dir = os.path.join(os.getcwd(), \"fonts\")\n",
    "    try:  \n",
    "        os.mkdir(new_font_dir)\n",
    "    except OSError:  \n",
    "        print (\"Creation of the directory %s failed\" % new_font_dir)\n",
    "    else:  \n",
    "        print (\"Successfully created the directory %s \" % new_font_dir)\n",
    "        font_dir = os.path.isdir(font_dir)\n",
    "else:\n",
    "    print(\"font directory already exists\")\n",
    "\n",
    "\n",
    "if not font_zipfile:\n",
    "    source_url = 'https://files.cargocollective.com/c206464/NationalPark.zip'\n",
    "    file = source_url.split('/')[-1]\n",
    "    print(file)\n",
    "    filename = wget.download(source_url)\n",
    "    print(\"file downloaded\")\n",
    "    zf = zipfile.ZipFile(file)\n",
    "    zf.extractall(path=\"fonts\", members=None, pwd=None)\n",
    "    # zipfile.ZipFile.extractall(path=\"fonts\", mode='r', members=None, pwd=None)\n",
    "    print(\"all font files extracted to fonts/\")\n",
    "else:\n",
    "    print(\"NationalPark.zip font file already downloaded\")\n",
    "    source_url = 'https://files.cargocollective.com/c206464/NationalPark.zip'\n",
    "    file = source_url.split('/')[-1]\n",
    "    zf = zipfile.ZipFile(file)\n",
    "    zf.extractall(path=\"fonts\", members=None, pwd=None)\n",
    "    # zipfile.ZipFile.extractall(path=\"fonts\", mode='r', members=None, pwd=None)\n",
    "    print(\"all font files extracted to fonts/\")\n",
    "    "
   ]
  },
  {
   "cell_type": "code",
   "execution_count": 13,
   "metadata": {
    "ExecuteTime": {
     "end_time": "2019-02-08T18:10:53.458209Z",
     "start_time": "2019-02-08T18:10:51.675214Z"
    }
   },
   "outputs": [
    {
     "data": {
      "image/png": "[encoded data removed]",
      "text/plain": [
       "<Figure size 1440x720 with 1 Axes>"
      ]
     },
     "metadata": {
      "needs_background": "light"
     },
     "output_type": "display_data"
    }
   ],
   "source": [
    "# create wordcloud\n",
    "words = ' '.join(headlines.title).lower()\n",
    "font_path = os.path.abspath(\"fonts/NationalPark-Regular.otf\")  # replace default font\n",
    "\n",
    "# image looks cleaner if we set fig size first, and make wordcloud width/height very large\n",
    "plt.figure(figsize=(20,10))\n",
    "cloud = wordcloud.WordCloud(background_color='#4e6489',\n",
    "                            colormap='Oranges',\n",
    "                            font_path=font_path,\n",
    "                            max_font_size=600,\n",
    "                            width=5000,\n",
    "                            height=2500,\n",
    "                            max_words=200,\n",
    "                            relative_scaling=.5).generate(words)\n",
    "plt.axis('off')\n",
    "plt.savefig('kaggle-hackernews.png')\n",
    "plt.imshow(cloud);"
   ]
  },
  {
   "cell_type": "code",
   "execution_count": 14,
   "metadata": {},
   "outputs": [
    {
     "data": {
      "text/html": [
       "<div>\n",
       "<style scoped>\n",
       "    .dataframe tbody tr th:only-of-type {\n",
       "        vertical-align: middle;\n",
       "    }\n",
       "\n",
       "    .dataframe tbody tr th {\n",
       "        vertical-align: top;\n",
       "    }\n",
       "\n",
       "    .dataframe thead th {\n",
       "        text-align: right;\n",
       "    }\n",
       "</style>\n",
       "<table border=\"1\" class=\"dataframe\">\n",
       "  <thead>\n",
       "    <tr style=\"text-align: right;\">\n",
       "      <th></th>\n",
       "      <th>Unnamed: 0</th>\n",
       "      <th>Unnamed: 0.1</th>\n",
       "      <th>Unnamed: 0.1.1</th>\n",
       "      <th>id</th>\n",
       "      <th>author</th>\n",
       "      <th>title</th>\n",
       "      <th>time_ts</th>\n",
       "      <th>score</th>\n",
       "      <th>url</th>\n",
       "    </tr>\n",
       "  </thead>\n",
       "  <tbody>\n",
       "    <tr>\n",
       "      <th>0</th>\n",
       "      <td>0</td>\n",
       "      <td>0</td>\n",
       "      <td>0</td>\n",
       "      <td>9520</td>\n",
       "      <td>bootload</td>\n",
       "      <td>Delicious tags &amp; machine learning</td>\n",
       "      <td>2007-04-06 03:58:32+00:00</td>\n",
       "      <td>1</td>\n",
       "      <td>http://www.smokingrobot.com/news/archives/perm...</td>\n",
       "    </tr>\n",
       "    <tr>\n",
       "      <th>1</th>\n",
       "      <td>1</td>\n",
       "      <td>1</td>\n",
       "      <td>1</td>\n",
       "      <td>46778</td>\n",
       "      <td>nickb</td>\n",
       "      <td>Machine Learning and The Privacy Problem</td>\n",
       "      <td>2007-08-26 18:34:47+00:00</td>\n",
       "      <td>2</td>\n",
       "      <td>http://hunch.net/?p=288</td>\n",
       "    </tr>\n",
       "    <tr>\n",
       "      <th>2</th>\n",
       "      <td>2</td>\n",
       "      <td>2</td>\n",
       "      <td>2</td>\n",
       "      <td>58532</td>\n",
       "      <td>aquarin</td>\n",
       "      <td>Map-Reduce for Machine Learning on Multicore (...</td>\n",
       "      <td>2007-09-23 13:08:53+00:00</td>\n",
       "      <td>10</td>\n",
       "      <td>http://www.cs.stanford.edu/people/ang//papers/...</td>\n",
       "    </tr>\n",
       "    <tr>\n",
       "      <th>3</th>\n",
       "      <td>3</td>\n",
       "      <td>3</td>\n",
       "      <td>3</td>\n",
       "      <td>58600</td>\n",
       "      <td>ivankirigin</td>\n",
       "      <td>Machine Learning Animations from CMU's Auton L...</td>\n",
       "      <td>2007-09-23 20:02:14+00:00</td>\n",
       "      <td>9</td>\n",
       "      <td>http://www.autonlab.org/autonweb/library/anima...</td>\n",
       "    </tr>\n",
       "    <tr>\n",
       "      <th>4</th>\n",
       "      <td>4</td>\n",
       "      <td>4</td>\n",
       "      <td>4</td>\n",
       "      <td>64637</td>\n",
       "      <td>tocomment</td>\n",
       "      <td>Machine Learning and Dragons - A Game</td>\n",
       "      <td>2007-10-08 05:18:34+00:00</td>\n",
       "      <td>22</td>\n",
       "      <td>http://www.blendedtechnologies.com/machine-lea...</td>\n",
       "    </tr>\n",
       "  </tbody>\n",
       "</table>\n",
       "</div>"
      ],
      "text/plain": [
       "   Unnamed: 0  Unnamed: 0.1  Unnamed: 0.1.1     id       author                                              title                    time_ts  score                                                url\n",
       "0           0             0               0   9520     bootload                  Delicious tags & machine learning  2007-04-06 03:58:32+00:00      1  http://www.smokingrobot.com/news/archives/perm...\n",
       "1           1             1               1  46778        nickb           Machine Learning and The Privacy Problem  2007-08-26 18:34:47+00:00      2                            http://hunch.net/?p=288\n",
       "2           2             2               2  58532      aquarin  Map-Reduce for Machine Learning on Multicore (...  2007-09-23 13:08:53+00:00     10  http://www.cs.stanford.edu/people/ang//papers/...\n",
       "3           3             3               3  58600  ivankirigin  Machine Learning Animations from CMU's Auton L...  2007-09-23 20:02:14+00:00      9  http://www.autonlab.org/autonweb/library/anima...\n",
       "4           4             4               4  64637    tocomment              Machine Learning and Dragons - A Game  2007-10-08 05:18:34+00:00     22  http://www.blendedtechnologies.com/machine-lea..."
      ]
     },
     "execution_count": 14,
     "metadata": {},
     "output_type": "execute_result"
    }
   ],
   "source": [
    "headlines.head(5)"
   ]
  },
  {
   "cell_type": "code",
   "execution_count": 15,
   "metadata": {},
   "outputs": [
    {
     "data": {
      "application/vnd.jupyter.widget-view+json": {
       "model_id": "56e205d59f494b5d8d494d16ee7590b2",
       "version_major": 2,
       "version_minor": 0
      },
      "text/plain": [
       "interactive(children=(Text(value='score', description='column'), IntSlider(value=183, description='x', max=549…"
      ]
     },
     "metadata": {},
     "output_type": "display_data"
    }
   ],
   "source": [
    "# Generate a slider\n",
    "@interact\n",
    "def show_articles_more_than(column='score', x=int(headlines['score'].max()/3)):\n",
    "    return headlines.loc[headlines[column] > x].sort_values(by=\"score\", ascending=False)\n"
   ]
  },
  {
   "cell_type": "code",
   "execution_count": 16,
   "metadata": {},
   "outputs": [],
   "source": [
    "import qgrid"
   ]
  },
  {
   "cell_type": "code",
   "execution_count": 17,
   "metadata": {},
   "outputs": [
    {
     "data": {
      "application/vnd.jupyter.widget-view+json": {
       "model_id": "cb61a98c24234c32a0132fde522d6b66",
       "version_major": 2,
       "version_minor": 0
      },
      "text/plain": [
       "QgridWidget(grid_options={'fullWidthRows': True, 'syncColumnCellResize': True, 'forceFitColumns': True, 'defau…"
      ]
     },
     "metadata": {},
     "output_type": "display_data"
    }
   ],
   "source": [
    "# qgrid enables interactive filtering of the entire dataframe; more convenient than manual slicing\n",
    "qgrid.show_grid(headlines)"
   ]
  },
  {
   "cell_type": "code",
   "execution_count": 18,
   "metadata": {},
   "outputs": [],
   "source": [
    "# breakout time data into useful columns\n",
    "import datetime as dt\n",
    "\n",
    "headlines['time_ts'] = pd.to_datetime(headlines['time_ts'])   # cast to datetime type\n",
    "\n",
    "headlines['date'] = pd.DatetimeIndex(headlines['time_ts']).date\n",
    "headlines['date'] = pd.to_datetime(headlines['date'])\n",
    "headlines['year'] = pd.DatetimeIndex(headlines['time_ts']).year\n",
    "headlines['year'] = pd.to_datetime(headlines['year'])\n",
    "headlines['month'] = pd.DatetimeIndex(headlines['time_ts']).month\n",
    "headlines['month'] = pd.to_datetime(headlines['month'])\n",
    "headlines['day'] = pd.DatetimeIndex(headlines['time_ts']).day\n",
    "headlines['day'] = pd.to_datetime(headlines['day'])\n",
    "headlines['day_name'] = headlines[['time_ts']].apply(lambda x: dt.datetime.strftime(x['time_ts'], '%A'), axis=1)"
   ]
  },
  {
   "cell_type": "code",
   "execution_count": 19,
   "metadata": {},
   "outputs": [
    {
     "data": {
      "text/html": [
       "<div>\n",
       "<style scoped>\n",
       "    .dataframe tbody tr th:only-of-type {\n",
       "        vertical-align: middle;\n",
       "    }\n",
       "\n",
       "    .dataframe tbody tr th {\n",
       "        vertical-align: top;\n",
       "    }\n",
       "\n",
       "    .dataframe thead th {\n",
       "        text-align: right;\n",
       "    }\n",
       "</style>\n",
       "<table border=\"1\" class=\"dataframe\">\n",
       "  <thead>\n",
       "    <tr style=\"text-align: right;\">\n",
       "      <th></th>\n",
       "      <th>Unnamed: 0</th>\n",
       "      <th>Unnamed: 0.1</th>\n",
       "      <th>Unnamed: 0.1.1</th>\n",
       "      <th>id</th>\n",
       "      <th>author</th>\n",
       "      <th>title</th>\n",
       "      <th>time_ts</th>\n",
       "      <th>score</th>\n",
       "      <th>url</th>\n",
       "      <th>date</th>\n",
       "      <th>year</th>\n",
       "      <th>month</th>\n",
       "      <th>day</th>\n",
       "      <th>day_name</th>\n",
       "    </tr>\n",
       "  </thead>\n",
       "  <tbody>\n",
       "    <tr>\n",
       "      <th>0</th>\n",
       "      <td>0</td>\n",
       "      <td>0</td>\n",
       "      <td>0</td>\n",
       "      <td>9520</td>\n",
       "      <td>bootload</td>\n",
       "      <td>Delicious tags &amp; machine learning</td>\n",
       "      <td>2007-04-06 03:58:32+00:00</td>\n",
       "      <td>1</td>\n",
       "      <td>http://www.smokingrobot.com/news/archives/perm...</td>\n",
       "      <td>2007-04-06</td>\n",
       "      <td>1970-01-01 00:00:00.000002007</td>\n",
       "      <td>1970-01-01 00:00:00.000000004</td>\n",
       "      <td>1970-01-01 00:00:00.000000006</td>\n",
       "      <td>Friday</td>\n",
       "    </tr>\n",
       "    <tr>\n",
       "      <th>1</th>\n",
       "      <td>1</td>\n",
       "      <td>1</td>\n",
       "      <td>1</td>\n",
       "      <td>46778</td>\n",
       "      <td>nickb</td>\n",
       "      <td>Machine Learning and The Privacy Problem</td>\n",
       "      <td>2007-08-26 18:34:47+00:00</td>\n",
       "      <td>2</td>\n",
       "      <td>http://hunch.net/?p=288</td>\n",
       "      <td>2007-08-26</td>\n",
       "      <td>1970-01-01 00:00:00.000002007</td>\n",
       "      <td>1970-01-01 00:00:00.000000008</td>\n",
       "      <td>1970-01-01 00:00:00.000000026</td>\n",
       "      <td>Sunday</td>\n",
       "    </tr>\n",
       "    <tr>\n",
       "      <th>2</th>\n",
       "      <td>2</td>\n",
       "      <td>2</td>\n",
       "      <td>2</td>\n",
       "      <td>58532</td>\n",
       "      <td>aquarin</td>\n",
       "      <td>Map-Reduce for Machine Learning on Multicore (...</td>\n",
       "      <td>2007-09-23 13:08:53+00:00</td>\n",
       "      <td>10</td>\n",
       "      <td>http://www.cs.stanford.edu/people/ang//papers/...</td>\n",
       "      <td>2007-09-23</td>\n",
       "      <td>1970-01-01 00:00:00.000002007</td>\n",
       "      <td>1970-01-01 00:00:00.000000009</td>\n",
       "      <td>1970-01-01 00:00:00.000000023</td>\n",
       "      <td>Sunday</td>\n",
       "    </tr>\n",
       "    <tr>\n",
       "      <th>3</th>\n",
       "      <td>3</td>\n",
       "      <td>3</td>\n",
       "      <td>3</td>\n",
       "      <td>58600</td>\n",
       "      <td>ivankirigin</td>\n",
       "      <td>Machine Learning Animations from CMU's Auton L...</td>\n",
       "      <td>2007-09-23 20:02:14+00:00</td>\n",
       "      <td>9</td>\n",
       "      <td>http://www.autonlab.org/autonweb/library/anima...</td>\n",
       "      <td>2007-09-23</td>\n",
       "      <td>1970-01-01 00:00:00.000002007</td>\n",
       "      <td>1970-01-01 00:00:00.000000009</td>\n",
       "      <td>1970-01-01 00:00:00.000000023</td>\n",
       "      <td>Sunday</td>\n",
       "    </tr>\n",
       "    <tr>\n",
       "      <th>4</th>\n",
       "      <td>4</td>\n",
       "      <td>4</td>\n",
       "      <td>4</td>\n",
       "      <td>64637</td>\n",
       "      <td>tocomment</td>\n",
       "      <td>Machine Learning and Dragons - A Game</td>\n",
       "      <td>2007-10-08 05:18:34+00:00</td>\n",
       "      <td>22</td>\n",
       "      <td>http://www.blendedtechnologies.com/machine-lea...</td>\n",
       "      <td>2007-10-08</td>\n",
       "      <td>1970-01-01 00:00:00.000002007</td>\n",
       "      <td>1970-01-01 00:00:00.000000010</td>\n",
       "      <td>1970-01-01 00:00:00.000000008</td>\n",
       "      <td>Monday</td>\n",
       "    </tr>\n",
       "  </tbody>\n",
       "</table>\n",
       "</div>"
      ],
      "text/plain": [
       "   Unnamed: 0  Unnamed: 0.1  Unnamed: 0.1.1     id       author                                              title                   time_ts  score                                                url       date                          year                         month                           day day_name\n",
       "0           0             0               0   9520     bootload                  Delicious tags & machine learning 2007-04-06 03:58:32+00:00      1  http://www.smokingrobot.com/news/archives/perm... 2007-04-06 1970-01-01 00:00:00.000002007 1970-01-01 00:00:00.000000004 1970-01-01 00:00:00.000000006   Friday\n",
       "1           1             1               1  46778        nickb           Machine Learning and The Privacy Problem 2007-08-26 18:34:47+00:00      2                            http://hunch.net/?p=288 2007-08-26 1970-01-01 00:00:00.000002007 1970-01-01 00:00:00.000000008 1970-01-01 00:00:00.000000026   Sunday\n",
       "2           2             2               2  58532      aquarin  Map-Reduce for Machine Learning on Multicore (... 2007-09-23 13:08:53+00:00     10  http://www.cs.stanford.edu/people/ang//papers/... 2007-09-23 1970-01-01 00:00:00.000002007 1970-01-01 00:00:00.000000009 1970-01-01 00:00:00.000000023   Sunday\n",
       "3           3             3               3  58600  ivankirigin  Machine Learning Animations from CMU's Auton L... 2007-09-23 20:02:14+00:00      9  http://www.autonlab.org/autonweb/library/anima... 2007-09-23 1970-01-01 00:00:00.000002007 1970-01-01 00:00:00.000000009 1970-01-01 00:00:00.000000023   Sunday\n",
       "4           4             4               4  64637    tocomment              Machine Learning and Dragons - A Game 2007-10-08 05:18:34+00:00     22  http://www.blendedtechnologies.com/machine-lea... 2007-10-08 1970-01-01 00:00:00.000002007 1970-01-01 00:00:00.000000010 1970-01-01 00:00:00.000000008   Monday"
      ]
     },
     "execution_count": 19,
     "metadata": {},
     "output_type": "execute_result"
    }
   ],
   "source": [
    "headlines.head(5)"
   ]
  },
  {
   "cell_type": "code",
   "execution_count": 20,
   "metadata": {},
   "outputs": [
    {
     "data": {
      "text/plain": [
       "0   2007-04-06\n",
       "1   2007-08-26\n",
       "2   2007-09-23\n",
       "3   2007-09-23\n",
       "4   2007-10-08\n",
       "5   2007-11-13\n",
       "6   2007-12-17\n",
       "7   2008-03-08\n",
       "8   2008-03-11\n",
       "9   2008-05-24\n",
       "Name: date, dtype: datetime64[ns]"
      ]
     },
     "execution_count": 20,
     "metadata": {},
     "output_type": "execute_result"
    }
   ],
   "source": [
    "events = pd.Series(headlines['date'])\n",
    "events[:10]"
   ]
  },
  {
   "cell_type": "code",
   "execution_count": 21,
   "metadata": {},
   "outputs": [
    {
     "name": "stdout",
     "output_type": "stream",
     "text": [
      "<class 'pandas.core.frame.DataFrame'>\n",
      "RangeIndex: 1855 entries, 0 to 1854\n",
      "Data columns (total 14 columns):\n",
      "Unnamed: 0        1855 non-null int64\n",
      "Unnamed: 0.1      1855 non-null int64\n",
      "Unnamed: 0.1.1    1855 non-null int64\n",
      "id                1855 non-null int64\n",
      "author            1855 non-null object\n",
      "title             1855 non-null object\n",
      "time_ts           1855 non-null datetime64[ns, UTC]\n",
      "score             1855 non-null int64\n",
      "url               1731 non-null object\n",
      "date              1855 non-null datetime64[ns]\n",
      "year              1855 non-null datetime64[ns]\n",
      "month             1855 non-null datetime64[ns]\n",
      "day               1855 non-null datetime64[ns]\n",
      "day_name          1855 non-null object\n",
      "dtypes: datetime64[ns, UTC](1), datetime64[ns](4), int64(5), object(4)\n",
      "memory usage: 203.0+ KB\n"
     ]
    }
   ],
   "source": [
    "headlines.info()"
   ]
  },
  {
   "cell_type": "code",
   "execution_count": 22,
   "metadata": {},
   "outputs": [
    {
     "data": {
      "text/plain": [
       "<matplotlib.axes._subplots.AxesSubplot at 0x206913d8e48>"
      ]
     },
     "execution_count": 22,
     "metadata": {},
     "output_type": "execute_result"
    },
    {
     "data": {
      "image/png": "[encoded data removed]",
      "text/plain": [
       "<Figure size 1440x720 with 1 Axes>"
      ]
     },
     "metadata": {
      "needs_background": "light"
     },
     "output_type": "display_data"
    }
   ],
   "source": [
    "# create a calendar map - here is a quick example\n",
    "np.random.seed(sum(map(ord, 'calmap')))\n",
    "import pandas as pd\n",
    "import calmap\n",
    "\n",
    "plt.figure(figsize=(20,10))\n",
    "all_days = pd.date_range('1/15/2014', periods=700, freq='D')\n",
    "days = np.random.choice(all_days, 500)\n",
    "events = pd.Series(np.random.randn(len(days)), index=days)\n",
    "calmap.yearplot(events, year=2014)"
   ]
  },
  {
   "cell_type": "code",
   "execution_count": 23,
   "metadata": {},
   "outputs": [
    {
     "data": {
      "text/plain": [
       "2015-12-11   -0.998662\n",
       "2014-06-17   -0.136021\n",
       "2014-11-04   -0.240216\n",
       "2014-02-07    0.217959\n",
       "2014-05-05   -0.188949\n",
       "2014-05-21   -0.171695\n",
       "2014-12-11   -0.143083\n",
       "2014-04-11   -1.030827\n",
       "2014-03-27    0.605146\n",
       "2015-06-13    0.162624\n",
       "dtype: float64"
      ]
     },
     "execution_count": 23,
     "metadata": {},
     "output_type": "execute_result"
    }
   ],
   "source": [
    "events[:10]"
   ]
  },
  {
   "cell_type": "code",
   "execution_count": 24,
   "metadata": {},
   "outputs": [
    {
     "data": {
      "text/html": [
       "<div>\n",
       "<style scoped>\n",
       "    .dataframe tbody tr th:only-of-type {\n",
       "        vertical-align: middle;\n",
       "    }\n",
       "\n",
       "    .dataframe tbody tr th {\n",
       "        vertical-align: top;\n",
       "    }\n",
       "\n",
       "    .dataframe thead tr th {\n",
       "        text-align: left;\n",
       "    }\n",
       "\n",
       "    .dataframe thead tr:last-of-type th {\n",
       "        text-align: right;\n",
       "    }\n",
       "</style>\n",
       "<table border=\"1\" class=\"dataframe\">\n",
       "  <thead>\n",
       "    <tr>\n",
       "      <th></th>\n",
       "      <th>id</th>\n",
       "    </tr>\n",
       "    <tr>\n",
       "      <th></th>\n",
       "      <th>count</th>\n",
       "    </tr>\n",
       "    <tr>\n",
       "      <th>date</th>\n",
       "      <th></th>\n",
       "    </tr>\n",
       "  </thead>\n",
       "  <tbody>\n",
       "    <tr>\n",
       "      <th>2007-04-06</th>\n",
       "      <td>1</td>\n",
       "    </tr>\n",
       "    <tr>\n",
       "      <th>2007-08-26</th>\n",
       "      <td>1</td>\n",
       "    </tr>\n",
       "    <tr>\n",
       "      <th>2007-09-23</th>\n",
       "      <td>2</td>\n",
       "    </tr>\n",
       "    <tr>\n",
       "      <th>2007-10-08</th>\n",
       "      <td>1</td>\n",
       "    </tr>\n",
       "    <tr>\n",
       "      <th>2007-11-13</th>\n",
       "      <td>1</td>\n",
       "    </tr>\n",
       "    <tr>\n",
       "      <th>2007-12-17</th>\n",
       "      <td>1</td>\n",
       "    </tr>\n",
       "    <tr>\n",
       "      <th>2008-03-08</th>\n",
       "      <td>1</td>\n",
       "    </tr>\n",
       "    <tr>\n",
       "      <th>2008-03-11</th>\n",
       "      <td>1</td>\n",
       "    </tr>\n",
       "    <tr>\n",
       "      <th>2008-05-24</th>\n",
       "      <td>1</td>\n",
       "    </tr>\n",
       "    <tr>\n",
       "      <th>2008-06-07</th>\n",
       "      <td>1</td>\n",
       "    </tr>\n",
       "  </tbody>\n",
       "</table>\n",
       "</div>"
      ],
      "text/plain": [
       "              id\n",
       "           count\n",
       "date            \n",
       "2007-04-06     1\n",
       "2007-08-26     1\n",
       "2007-09-23     2\n",
       "2007-10-08     1\n",
       "2007-11-13     1\n",
       "2007-12-17     1\n",
       "2008-03-08     1\n",
       "2008-03-11     1\n",
       "2008-05-24     1\n",
       "2008-06-07     1"
      ]
     },
     "execution_count": 24,
     "metadata": {},
     "output_type": "execute_result"
    }
   ],
   "source": [
    "# create a calendar map for our headlines data\n",
    "events2 = headlines[['date', 'id']].groupby(['date']).agg(['count'])\n",
    "events2[:10]"
   ]
  },
  {
   "cell_type": "code",
   "execution_count": 25,
   "metadata": {},
   "outputs": [],
   "source": [
    "date1 = '2008-05-03'\n",
    "date2 = '2019-05-10'\n",
    "mydates = pd.date_range(date1, date2).tolist()"
   ]
  },
  {
   "cell_type": "code",
   "execution_count": 26,
   "metadata": {},
   "outputs": [
    {
     "data": {
      "text/plain": [
       "4025"
      ]
     },
     "execution_count": 26,
     "metadata": {},
     "output_type": "execute_result"
    }
   ],
   "source": [
    "len(mydates)"
   ]
  },
  {
   "cell_type": "code",
   "execution_count": 27,
   "metadata": {},
   "outputs": [
    {
     "name": "stdout",
     "output_type": "stream",
     "text": [
      "2007-04-06 00:00:00 2015-10-12 00:00:00\n"
     ]
    },
    {
     "data": {
      "text/html": [
       "<div>\n",
       "<style scoped>\n",
       "    .dataframe tbody tr th:only-of-type {\n",
       "        vertical-align: middle;\n",
       "    }\n",
       "\n",
       "    .dataframe tbody tr th {\n",
       "        vertical-align: top;\n",
       "    }\n",
       "\n",
       "    .dataframe thead th {\n",
       "        text-align: right;\n",
       "    }\n",
       "</style>\n",
       "<table border=\"1\" class=\"dataframe\">\n",
       "  <thead>\n",
       "    <tr style=\"text-align: right;\">\n",
       "      <th></th>\n",
       "      <th>date</th>\n",
       "    </tr>\n",
       "  </thead>\n",
       "  <tbody>\n",
       "    <tr>\n",
       "      <th>0</th>\n",
       "      <td>2007-04-06</td>\n",
       "    </tr>\n",
       "    <tr>\n",
       "      <th>1</th>\n",
       "      <td>2007-04-07</td>\n",
       "    </tr>\n",
       "    <tr>\n",
       "      <th>2</th>\n",
       "      <td>2007-04-08</td>\n",
       "    </tr>\n",
       "    <tr>\n",
       "      <th>3</th>\n",
       "      <td>2007-04-09</td>\n",
       "    </tr>\n",
       "    <tr>\n",
       "      <th>4</th>\n",
       "      <td>2007-04-10</td>\n",
       "    </tr>\n",
       "  </tbody>\n",
       "</table>\n",
       "</div>"
      ],
      "text/plain": [
       "        date\n",
       "0 2007-04-06\n",
       "1 2007-04-07\n",
       "2 2007-04-08\n",
       "3 2007-04-09\n",
       "4 2007-04-10"
      ]
     },
     "execution_count": 27,
     "metadata": {},
     "output_type": "execute_result"
    }
   ],
   "source": [
    "# create array of all dates in our min-max range, with zero counts\n",
    "date1 = headlines['date'].min()\n",
    "date2 = headlines['date'].max()\n",
    "print(date1, date2)\n",
    "mydates = pd.date_range(date1, date2).tolist()\n",
    "\n",
    "len(mydates)\n",
    "\n",
    "mydates2 = pd.date_range(date1, date2)\n",
    "mydates2 = pd.DataFrame(mydates2)\n",
    "mydates2.columns = ['date']\n",
    "mydates2.head(5)"
   ]
  },
  {
   "cell_type": "code",
   "execution_count": 28,
   "metadata": {},
   "outputs": [
    {
     "data": {
      "text/html": [
       "<div>\n",
       "<style scoped>\n",
       "    .dataframe tbody tr th:only-of-type {\n",
       "        vertical-align: middle;\n",
       "    }\n",
       "\n",
       "    .dataframe tbody tr th {\n",
       "        vertical-align: top;\n",
       "    }\n",
       "\n",
       "    .dataframe thead tr th {\n",
       "        text-align: left;\n",
       "    }\n",
       "\n",
       "    .dataframe thead tr:last-of-type th {\n",
       "        text-align: right;\n",
       "    }\n",
       "</style>\n",
       "<table border=\"1\" class=\"dataframe\">\n",
       "  <thead>\n",
       "    <tr>\n",
       "      <th></th>\n",
       "      <th>id</th>\n",
       "    </tr>\n",
       "    <tr>\n",
       "      <th></th>\n",
       "      <th>count</th>\n",
       "    </tr>\n",
       "    <tr>\n",
       "      <th>date</th>\n",
       "      <th></th>\n",
       "    </tr>\n",
       "  </thead>\n",
       "  <tbody>\n",
       "    <tr>\n",
       "      <th>2007-04-06</th>\n",
       "      <td>1</td>\n",
       "    </tr>\n",
       "    <tr>\n",
       "      <th>2007-08-26</th>\n",
       "      <td>1</td>\n",
       "    </tr>\n",
       "    <tr>\n",
       "      <th>2007-09-23</th>\n",
       "      <td>2</td>\n",
       "    </tr>\n",
       "    <tr>\n",
       "      <th>2007-10-08</th>\n",
       "      <td>1</td>\n",
       "    </tr>\n",
       "    <tr>\n",
       "      <th>2007-11-13</th>\n",
       "      <td>1</td>\n",
       "    </tr>\n",
       "  </tbody>\n",
       "</table>\n",
       "</div>"
      ],
      "text/plain": [
       "              id\n",
       "           count\n",
       "date            \n",
       "2007-04-06     1\n",
       "2007-08-26     1\n",
       "2007-09-23     2\n",
       "2007-10-08     1\n",
       "2007-11-13     1"
      ]
     },
     "execution_count": 28,
     "metadata": {},
     "output_type": "execute_result"
    }
   ],
   "source": [
    "events2[:5]"
   ]
  },
  {
   "cell_type": "code",
   "execution_count": 29,
   "metadata": {},
   "outputs": [
    {
     "name": "stderr",
     "output_type": "stream",
     "text": [
      "d:\\dropbox\\0.surfaceowl\\dev\\probable-eureka_scikit-learn\\venv\\lib\\site-packages\\pandas\\core\\reshape\\merge.py:522: UserWarning: merging between different levels can give an unintended result (1 levels on the left, 2 on the right)\n",
      "  warnings.warn(msg, UserWarning)\n"
     ]
    },
    {
     "data": {
      "text/html": [
       "<div>\n",
       "<style scoped>\n",
       "    .dataframe tbody tr th:only-of-type {\n",
       "        vertical-align: middle;\n",
       "    }\n",
       "\n",
       "    .dataframe tbody tr th {\n",
       "        vertical-align: top;\n",
       "    }\n",
       "\n",
       "    .dataframe thead th {\n",
       "        text-align: right;\n",
       "    }\n",
       "</style>\n",
       "<table border=\"1\" class=\"dataframe\">\n",
       "  <thead>\n",
       "    <tr style=\"text-align: right;\">\n",
       "      <th></th>\n",
       "      <th>count</th>\n",
       "    </tr>\n",
       "    <tr>\n",
       "      <th>date</th>\n",
       "      <th></th>\n",
       "    </tr>\n",
       "  </thead>\n",
       "  <tbody>\n",
       "    <tr>\n",
       "      <th>2007-04-06</th>\n",
       "      <td>1</td>\n",
       "    </tr>\n",
       "    <tr>\n",
       "      <th>2007-04-07</th>\n",
       "      <td>0</td>\n",
       "    </tr>\n",
       "    <tr>\n",
       "      <th>2007-04-08</th>\n",
       "      <td>0</td>\n",
       "    </tr>\n",
       "    <tr>\n",
       "      <th>2007-04-09</th>\n",
       "      <td>0</td>\n",
       "    </tr>\n",
       "    <tr>\n",
       "      <th>2007-04-10</th>\n",
       "      <td>0</td>\n",
       "    </tr>\n",
       "    <tr>\n",
       "      <th>2007-04-11</th>\n",
       "      <td>0</td>\n",
       "    </tr>\n",
       "    <tr>\n",
       "      <th>2007-04-12</th>\n",
       "      <td>0</td>\n",
       "    </tr>\n",
       "    <tr>\n",
       "      <th>2007-04-13</th>\n",
       "      <td>0</td>\n",
       "    </tr>\n",
       "    <tr>\n",
       "      <th>2007-04-14</th>\n",
       "      <td>0</td>\n",
       "    </tr>\n",
       "    <tr>\n",
       "      <th>2007-04-15</th>\n",
       "      <td>0</td>\n",
       "    </tr>\n",
       "  </tbody>\n",
       "</table>\n",
       "</div>"
      ],
      "text/plain": [
       "            count\n",
       "date             \n",
       "2007-04-06      1\n",
       "2007-04-07      0\n",
       "2007-04-08      0\n",
       "2007-04-09      0\n",
       "2007-04-10      0\n",
       "2007-04-11      0\n",
       "2007-04-12      0\n",
       "2007-04-13      0\n",
       "2007-04-14      0\n",
       "2007-04-15      0"
      ]
     },
     "execution_count": 29,
     "metadata": {},
     "output_type": "execute_result"
    }
   ],
   "source": [
    "result = pd.merge(mydates2, events2, on='date', how='outer')\n",
    "result = result.sort_values('date')\n",
    "result = result.fillna(value=0)\n",
    "result.columns = ['date', 'count']\n",
    "result['count'] = result['count'].astype(int)\n",
    "result = result.set_index('date', 'count')\n",
    "result.head(10)"
   ]
  },
  {
   "cell_type": "code",
   "execution_count": 30,
   "metadata": {},
   "outputs": [
    {
     "name": "stdout",
     "output_type": "stream",
     "text": [
      "<class 'pandas.core.frame.DataFrame'>\n",
      "DatetimeIndex: 3112 entries, 2007-04-06 to 2015-10-12\n",
      "Data columns (total 1 columns):\n",
      "count    3112 non-null int32\n",
      "dtypes: int32(1)\n",
      "memory usage: 36.5 KB\n"
     ]
    }
   ],
   "source": [
    "result.info()"
   ]
  },
  {
   "cell_type": "code",
   "execution_count": null,
   "metadata": {},
   "outputs": [],
   "source": []
  }
 ],
 "metadata": {
  "kernelspec": {
   "display_name": "Python 3",
   "language": "python",
   "name": "python3"
  },
  "language_info": {
   "codemirror_mode": {
    "name": "ipython",
    "version": 3
   },
   "file_extension": ".py",
   "mimetype": "text/x-python",
   "name": "python",
   "nbconvert_exporter": "python",
   "pygments_lexer": "ipython3",
   "version": "3.7.2"
  },
  "toc": {
   "base_numbering": 1,
   "nav_menu": {},
   "number_sections": true,
   "sideBar": true,
   "skip_h1_title": false,
   "title_cell": "Table of Contents",
   "title_sidebar": "Contents",
   "toc_cell": false,
   "toc_position": {},
   "toc_section_display": true,
   "toc_window_display": true
  }
 },
 "nbformat": 4,
 "nbformat_minor": 2
}
